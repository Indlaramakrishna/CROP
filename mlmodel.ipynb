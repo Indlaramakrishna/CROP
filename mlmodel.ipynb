{
 "cells": [
  {
   "cell_type": "code",
   "execution_count": 105,
   "metadata": {},
   "outputs": [],
   "source": [
    "import pandas as pd"
   ]
  },
  {
   "cell_type": "code",
   "execution_count": 106,
   "metadata": {},
   "outputs": [],
   "source": [
    "cp=pd.read_excel(r\"c:\\Users\\Admin\\Desktop\\Crop_recommendation.xlsx\",na_values=[' ?','? ','?'])"
   ]
  },
  {
   "cell_type": "code",
   "execution_count": 107,
   "metadata": {},
   "outputs": [
    {
     "data": {
      "text/html": [
       "<div>\n",
       "<style scoped>\n",
       "    .dataframe tbody tr th:only-of-type {\n",
       "        vertical-align: middle;\n",
       "    }\n",
       "\n",
       "    .dataframe tbody tr th {\n",
       "        vertical-align: top;\n",
       "    }\n",
       "\n",
       "    .dataframe thead th {\n",
       "        text-align: right;\n",
       "    }\n",
       "</style>\n",
       "<table border=\"1\" class=\"dataframe\">\n",
       "  <thead>\n",
       "    <tr style=\"text-align: right;\">\n",
       "      <th></th>\n",
       "      <th>N</th>\n",
       "      <th>P</th>\n",
       "      <th>K</th>\n",
       "      <th>temperature</th>\n",
       "      <th>humidity</th>\n",
       "      <th>ph</th>\n",
       "      <th>rainfall</th>\n",
       "      <th>label</th>\n",
       "    </tr>\n",
       "  </thead>\n",
       "  <tbody>\n",
       "    <tr>\n",
       "      <th>0</th>\n",
       "      <td>90.0</td>\n",
       "      <td>42.0</td>\n",
       "      <td>43.0</td>\n",
       "      <td>20.879744</td>\n",
       "      <td>82.002744</td>\n",
       "      <td>6.502985</td>\n",
       "      <td>202.935536</td>\n",
       "      <td>rice</td>\n",
       "    </tr>\n",
       "    <tr>\n",
       "      <th>1</th>\n",
       "      <td>85.0</td>\n",
       "      <td>58.0</td>\n",
       "      <td>41.0</td>\n",
       "      <td>21.770462</td>\n",
       "      <td>80.319644</td>\n",
       "      <td>7.038096</td>\n",
       "      <td>226.655537</td>\n",
       "      <td>rice</td>\n",
       "    </tr>\n",
       "    <tr>\n",
       "      <th>2</th>\n",
       "      <td>60.0</td>\n",
       "      <td>55.0</td>\n",
       "      <td>0.0</td>\n",
       "      <td>23.004459</td>\n",
       "      <td>82.320763</td>\n",
       "      <td>7.840207</td>\n",
       "      <td>263.964248</td>\n",
       "      <td>rice</td>\n",
       "    </tr>\n",
       "    <tr>\n",
       "      <th>3</th>\n",
       "      <td>74.0</td>\n",
       "      <td>35.0</td>\n",
       "      <td>40.0</td>\n",
       "      <td>26.491096</td>\n",
       "      <td>80.158363</td>\n",
       "      <td>6.980401</td>\n",
       "      <td>0.000000</td>\n",
       "      <td>rice</td>\n",
       "    </tr>\n",
       "    <tr>\n",
       "      <th>4</th>\n",
       "      <td>78.0</td>\n",
       "      <td>42.0</td>\n",
       "      <td>42.0</td>\n",
       "      <td>20.130175</td>\n",
       "      <td>81.604873</td>\n",
       "      <td>7.628473</td>\n",
       "      <td>262.717340</td>\n",
       "      <td>rice</td>\n",
       "    </tr>\n",
       "    <tr>\n",
       "      <th>...</th>\n",
       "      <td>...</td>\n",
       "      <td>...</td>\n",
       "      <td>...</td>\n",
       "      <td>...</td>\n",
       "      <td>...</td>\n",
       "      <td>...</td>\n",
       "      <td>...</td>\n",
       "      <td>...</td>\n",
       "    </tr>\n",
       "    <tr>\n",
       "      <th>2195</th>\n",
       "      <td>107.0</td>\n",
       "      <td>34.0</td>\n",
       "      <td>32.0</td>\n",
       "      <td>26.774637</td>\n",
       "      <td>66.413269</td>\n",
       "      <td>6.780064</td>\n",
       "      <td>177.774507</td>\n",
       "      <td>coffee</td>\n",
       "    </tr>\n",
       "    <tr>\n",
       "      <th>2196</th>\n",
       "      <td>99.0</td>\n",
       "      <td>15.0</td>\n",
       "      <td>27.0</td>\n",
       "      <td>27.417112</td>\n",
       "      <td>56.636362</td>\n",
       "      <td>6.086922</td>\n",
       "      <td>127.924610</td>\n",
       "      <td>coffee</td>\n",
       "    </tr>\n",
       "    <tr>\n",
       "      <th>2197</th>\n",
       "      <td>118.0</td>\n",
       "      <td>33.0</td>\n",
       "      <td>30.0</td>\n",
       "      <td>24.131797</td>\n",
       "      <td>67.225123</td>\n",
       "      <td>6.362608</td>\n",
       "      <td>173.322839</td>\n",
       "      <td>coffee</td>\n",
       "    </tr>\n",
       "    <tr>\n",
       "      <th>2198</th>\n",
       "      <td>117.0</td>\n",
       "      <td>32.0</td>\n",
       "      <td>34.0</td>\n",
       "      <td>26.272418</td>\n",
       "      <td>52.127394</td>\n",
       "      <td>6.758793</td>\n",
       "      <td>127.175293</td>\n",
       "      <td>coffee</td>\n",
       "    </tr>\n",
       "    <tr>\n",
       "      <th>2199</th>\n",
       "      <td>104.0</td>\n",
       "      <td>NaN</td>\n",
       "      <td>30.0</td>\n",
       "      <td>23.603016</td>\n",
       "      <td>60.396475</td>\n",
       "      <td>6.779833</td>\n",
       "      <td>140.937041</td>\n",
       "      <td>coffee</td>\n",
       "    </tr>\n",
       "  </tbody>\n",
       "</table>\n",
       "<p>2200 rows × 8 columns</p>\n",
       "</div>"
      ],
      "text/plain": [
       "          N     P     K  temperature   humidity        ph    rainfall   label\n",
       "0      90.0  42.0  43.0    20.879744  82.002744  6.502985  202.935536    rice\n",
       "1      85.0  58.0  41.0    21.770462  80.319644  7.038096  226.655537    rice\n",
       "2      60.0  55.0   0.0    23.004459  82.320763  7.840207  263.964248    rice\n",
       "3      74.0  35.0  40.0    26.491096  80.158363  6.980401    0.000000    rice\n",
       "4      78.0  42.0  42.0    20.130175  81.604873  7.628473  262.717340    rice\n",
       "...     ...   ...   ...          ...        ...       ...         ...     ...\n",
       "2195  107.0  34.0  32.0    26.774637  66.413269  6.780064  177.774507  coffee\n",
       "2196   99.0  15.0  27.0    27.417112  56.636362  6.086922  127.924610  coffee\n",
       "2197  118.0  33.0  30.0    24.131797  67.225123  6.362608  173.322839  coffee\n",
       "2198  117.0  32.0  34.0    26.272418  52.127394  6.758793  127.175293  coffee\n",
       "2199  104.0   NaN  30.0    23.603016  60.396475  6.779833  140.937041  coffee\n",
       "\n",
       "[2200 rows x 8 columns]"
      ]
     },
     "execution_count": 107,
     "metadata": {},
     "output_type": "execute_result"
    }
   ],
   "source": [
    "cp"
   ]
  },
  {
   "cell_type": "code",
   "execution_count": 108,
   "metadata": {},
   "outputs": [
    {
     "data": {
      "text/plain": [
       "array(['rice', 'maize', 'chickpea', 'kidneybeans', 'pigeonpeas',\n",
       "       'mothbeans', 'mungbean', 'blackgram', 'lentil', 'pomegranate',\n",
       "       'banana', 'mango', 'grapes', 'watermelon', 'muskmelon', 'apple',\n",
       "       'orange', 'papaya', 'coconut', 'cotton', 'jute', 'coffee'],\n",
       "      dtype=object)"
      ]
     },
     "execution_count": 108,
     "metadata": {},
     "output_type": "execute_result"
    }
   ],
   "source": [
    "cp['label'].unique()"
   ]
  },
  {
   "cell_type": "code",
   "execution_count": 109,
   "metadata": {},
   "outputs": [
    {
     "data": {
      "text/plain": [
       "Index(['N', 'P', 'K', 'temperature', 'humidity', 'ph', 'rainfall', 'label'], dtype='object')"
      ]
     },
     "execution_count": 109,
     "metadata": {},
     "output_type": "execute_result"
    }
   ],
   "source": [
    "cp.columns"
   ]
  },
  {
   "cell_type": "code",
   "execution_count": 110,
   "metadata": {},
   "outputs": [
    {
     "data": {
      "text/plain": [
       "N               39\n",
       "P               96\n",
       "K              141\n",
       "temperature      1\n",
       "humidity         1\n",
       "ph              15\n",
       "rainfall         0\n",
       "label            0\n",
       "dtype: int64"
      ]
     },
     "execution_count": 110,
     "metadata": {},
     "output_type": "execute_result"
    }
   ],
   "source": [
    "cp.isnull().sum()"
   ]
  },
  {
   "cell_type": "code",
   "execution_count": 111,
   "metadata": {},
   "outputs": [
    {
     "name": "stdout",
     "output_type": "stream",
     "text": [
      "6.470419942785811\n",
      "6.425419926\n",
      "0       3.504752\n",
      "1       3.510404\n",
      "2       3.525366\n",
      "3       3.532009\n",
      "4       3.558823\n",
      "          ...   \n",
      "2180    9.416003\n",
      "2181    9.459493\n",
      "2182    9.679241\n",
      "2183    9.926212\n",
      "2184    9.935091\n",
      "Name: ph, Length: 2185, dtype: float64\n"
     ]
    }
   ],
   "source": [
    "cp.isnull().sum()\n",
    "print(cp['ph'].mean())\n",
    "print(cp['ph'].median())\n",
    "print(cp['ph'].mode())"
   ]
  },
  {
   "cell_type": "code",
   "execution_count": 112,
   "metadata": {},
   "outputs": [
    {
     "name": "stdout",
     "output_type": "stream",
     "text": [
      "50.366959740860715\n"
     ]
    }
   ],
   "source": [
    "print(cp['N'].mean())\n",
    "cp.loc[cp['N'].isnull(),['N']]=50\n",
    "cp.loc[cp['P'].isnull(),['P']]=52\n",
    "cp.loc[cp['K'].isnull(),['K']]=32\n",
    "cp.loc[cp['temperature'].isnull(),['temperature']]=25\n",
    "cp.loc[cp['humidity'].isnull(),['humidity']]=25\n",
    "cp.loc[cp['ph'].isnull(),['ph']]=6\n",
    "\n",
    "\n"
   ]
  },
  {
   "cell_type": "code",
   "execution_count": 113,
   "metadata": {},
   "outputs": [
    {
     "data": {
      "text/plain": [
       "Index(['N', 'P', 'K', 'temperature', 'humidity', 'ph', 'rainfall', 'label'], dtype='object')"
      ]
     },
     "execution_count": 113,
     "metadata": {},
     "output_type": "execute_result"
    }
   ],
   "source": [
    "cp.columns"
   ]
  },
  {
   "cell_type": "code",
   "execution_count": 114,
   "metadata": {},
   "outputs": [
    {
     "data": {
      "text/plain": [
       "N              0\n",
       "P              0\n",
       "K              0\n",
       "temperature    0\n",
       "humidity       0\n",
       "ph             0\n",
       "rainfall       0\n",
       "label          0\n",
       "dtype: int64"
      ]
     },
     "execution_count": 114,
     "metadata": {},
     "output_type": "execute_result"
    }
   ],
   "source": [
    "cp.isnull().sum()"
   ]
  },
  {
   "cell_type": "code",
   "execution_count": 115,
   "metadata": {},
   "outputs": [
    {
     "data": {
      "text/plain": [
       "0    32.0\n",
       "Name: K, dtype: float64"
      ]
     },
     "execution_count": 115,
     "metadata": {},
     "output_type": "execute_result"
    }
   ],
   "source": [
    "cp['K'].mode()\n"
   ]
  },
  {
   "cell_type": "code",
   "execution_count": 116,
   "metadata": {},
   "outputs": [],
   "source": [
    "cp.loc[cp['K'].isnull(),['K']]=17"
   ]
  },
  {
   "cell_type": "code",
   "execution_count": 117,
   "metadata": {},
   "outputs": [
    {
     "data": {
      "text/plain": [
       "0       43.0\n",
       "1       41.0\n",
       "2        0.0\n",
       "3       40.0\n",
       "4       42.0\n",
       "        ... \n",
       "2195    32.0\n",
       "2196    27.0\n",
       "2197    30.0\n",
       "2198    34.0\n",
       "2199    30.0\n",
       "Name: K, Length: 2200, dtype: float64"
      ]
     },
     "execution_count": 117,
     "metadata": {},
     "output_type": "execute_result"
    }
   ],
   "source": [
    "cp[\"K\"]"
   ]
  },
  {
   "cell_type": "code",
   "execution_count": 118,
   "metadata": {},
   "outputs": [
    {
     "data": {
      "text/plain": [
       "N              0\n",
       "P              0\n",
       "K              0\n",
       "temperature    0\n",
       "humidity       0\n",
       "ph             0\n",
       "rainfall       0\n",
       "label          0\n",
       "dtype: int64"
      ]
     },
     "execution_count": 118,
     "metadata": {},
     "output_type": "execute_result"
    }
   ],
   "source": [
    "cp.isnull().sum()"
   ]
  },
  {
   "cell_type": "code",
   "execution_count": 119,
   "metadata": {},
   "outputs": [
    {
     "data": {
      "text/plain": [
       "array(['rice', 'maize', 'chickpea', 'kidneybeans', 'pigeonpeas',\n",
       "       'mothbeans', 'mungbean', 'blackgram', 'lentil', 'pomegranate',\n",
       "       'banana', 'mango', 'grapes', 'watermelon', 'muskmelon', 'apple',\n",
       "       'orange', 'papaya', 'coconut', 'cotton', 'jute', 'coffee'],\n",
       "      dtype=object)"
      ]
     },
     "execution_count": 119,
     "metadata": {},
     "output_type": "execute_result"
    }
   ],
   "source": [
    "\n",
    "cp['label'].unique()"
   ]
  },
  {
   "cell_type": "code",
   "execution_count": 120,
   "metadata": {},
   "outputs": [],
   "source": [
    "from sklearn.preprocessing import LabelEncoder"
   ]
  },
  {
   "cell_type": "code",
   "execution_count": 121,
   "metadata": {},
   "outputs": [],
   "source": [
    "lb=LabelEncoder()"
   ]
  },
  {
   "cell_type": "code",
   "execution_count": 122,
   "metadata": {},
   "outputs": [],
   "source": [
    "cp['crop_encoder']=lb.fit_transform(cp['label'])"
   ]
  },
  {
   "cell_type": "code",
   "execution_count": 123,
   "metadata": {},
   "outputs": [
    {
     "data": {
      "text/html": [
       "<div>\n",
       "<style scoped>\n",
       "    .dataframe tbody tr th:only-of-type {\n",
       "        vertical-align: middle;\n",
       "    }\n",
       "\n",
       "    .dataframe tbody tr th {\n",
       "        vertical-align: top;\n",
       "    }\n",
       "\n",
       "    .dataframe thead th {\n",
       "        text-align: right;\n",
       "    }\n",
       "</style>\n",
       "<table border=\"1\" class=\"dataframe\">\n",
       "  <thead>\n",
       "    <tr style=\"text-align: right;\">\n",
       "      <th></th>\n",
       "      <th>N</th>\n",
       "      <th>P</th>\n",
       "      <th>K</th>\n",
       "      <th>temperature</th>\n",
       "      <th>humidity</th>\n",
       "      <th>ph</th>\n",
       "      <th>rainfall</th>\n",
       "      <th>crop_encoder</th>\n",
       "    </tr>\n",
       "  </thead>\n",
       "  <tbody>\n",
       "    <tr>\n",
       "      <th>0</th>\n",
       "      <td>90.0</td>\n",
       "      <td>42.0</td>\n",
       "      <td>43.0</td>\n",
       "      <td>20.879744</td>\n",
       "      <td>82.002744</td>\n",
       "      <td>6.502985</td>\n",
       "      <td>202.935536</td>\n",
       "      <td>20</td>\n",
       "    </tr>\n",
       "    <tr>\n",
       "      <th>1</th>\n",
       "      <td>85.0</td>\n",
       "      <td>58.0</td>\n",
       "      <td>41.0</td>\n",
       "      <td>21.770462</td>\n",
       "      <td>80.319644</td>\n",
       "      <td>7.038096</td>\n",
       "      <td>226.655537</td>\n",
       "      <td>20</td>\n",
       "    </tr>\n",
       "    <tr>\n",
       "      <th>2</th>\n",
       "      <td>60.0</td>\n",
       "      <td>55.0</td>\n",
       "      <td>0.0</td>\n",
       "      <td>23.004459</td>\n",
       "      <td>82.320763</td>\n",
       "      <td>7.840207</td>\n",
       "      <td>263.964248</td>\n",
       "      <td>20</td>\n",
       "    </tr>\n",
       "    <tr>\n",
       "      <th>3</th>\n",
       "      <td>74.0</td>\n",
       "      <td>35.0</td>\n",
       "      <td>40.0</td>\n",
       "      <td>26.491096</td>\n",
       "      <td>80.158363</td>\n",
       "      <td>6.980401</td>\n",
       "      <td>0.000000</td>\n",
       "      <td>20</td>\n",
       "    </tr>\n",
       "    <tr>\n",
       "      <th>4</th>\n",
       "      <td>78.0</td>\n",
       "      <td>42.0</td>\n",
       "      <td>42.0</td>\n",
       "      <td>20.130175</td>\n",
       "      <td>81.604873</td>\n",
       "      <td>7.628473</td>\n",
       "      <td>262.717340</td>\n",
       "      <td>20</td>\n",
       "    </tr>\n",
       "    <tr>\n",
       "      <th>...</th>\n",
       "      <td>...</td>\n",
       "      <td>...</td>\n",
       "      <td>...</td>\n",
       "      <td>...</td>\n",
       "      <td>...</td>\n",
       "      <td>...</td>\n",
       "      <td>...</td>\n",
       "      <td>...</td>\n",
       "    </tr>\n",
       "    <tr>\n",
       "      <th>2195</th>\n",
       "      <td>107.0</td>\n",
       "      <td>34.0</td>\n",
       "      <td>32.0</td>\n",
       "      <td>26.774637</td>\n",
       "      <td>66.413269</td>\n",
       "      <td>6.780064</td>\n",
       "      <td>177.774507</td>\n",
       "      <td>5</td>\n",
       "    </tr>\n",
       "    <tr>\n",
       "      <th>2196</th>\n",
       "      <td>99.0</td>\n",
       "      <td>15.0</td>\n",
       "      <td>27.0</td>\n",
       "      <td>27.417112</td>\n",
       "      <td>56.636362</td>\n",
       "      <td>6.086922</td>\n",
       "      <td>127.924610</td>\n",
       "      <td>5</td>\n",
       "    </tr>\n",
       "    <tr>\n",
       "      <th>2197</th>\n",
       "      <td>118.0</td>\n",
       "      <td>33.0</td>\n",
       "      <td>30.0</td>\n",
       "      <td>24.131797</td>\n",
       "      <td>67.225123</td>\n",
       "      <td>6.362608</td>\n",
       "      <td>173.322839</td>\n",
       "      <td>5</td>\n",
       "    </tr>\n",
       "    <tr>\n",
       "      <th>2198</th>\n",
       "      <td>117.0</td>\n",
       "      <td>32.0</td>\n",
       "      <td>34.0</td>\n",
       "      <td>26.272418</td>\n",
       "      <td>52.127394</td>\n",
       "      <td>6.758793</td>\n",
       "      <td>127.175293</td>\n",
       "      <td>5</td>\n",
       "    </tr>\n",
       "    <tr>\n",
       "      <th>2199</th>\n",
       "      <td>104.0</td>\n",
       "      <td>52.0</td>\n",
       "      <td>30.0</td>\n",
       "      <td>23.603016</td>\n",
       "      <td>60.396475</td>\n",
       "      <td>6.779833</td>\n",
       "      <td>140.937041</td>\n",
       "      <td>5</td>\n",
       "    </tr>\n",
       "  </tbody>\n",
       "</table>\n",
       "<p>2200 rows × 8 columns</p>\n",
       "</div>"
      ],
      "text/plain": [
       "          N     P     K  temperature   humidity        ph    rainfall  \\\n",
       "0      90.0  42.0  43.0    20.879744  82.002744  6.502985  202.935536   \n",
       "1      85.0  58.0  41.0    21.770462  80.319644  7.038096  226.655537   \n",
       "2      60.0  55.0   0.0    23.004459  82.320763  7.840207  263.964248   \n",
       "3      74.0  35.0  40.0    26.491096  80.158363  6.980401    0.000000   \n",
       "4      78.0  42.0  42.0    20.130175  81.604873  7.628473  262.717340   \n",
       "...     ...   ...   ...          ...        ...       ...         ...   \n",
       "2195  107.0  34.0  32.0    26.774637  66.413269  6.780064  177.774507   \n",
       "2196   99.0  15.0  27.0    27.417112  56.636362  6.086922  127.924610   \n",
       "2197  118.0  33.0  30.0    24.131797  67.225123  6.362608  173.322839   \n",
       "2198  117.0  32.0  34.0    26.272418  52.127394  6.758793  127.175293   \n",
       "2199  104.0  52.0  30.0    23.603016  60.396475  6.779833  140.937041   \n",
       "\n",
       "      crop_encoder  \n",
       "0               20  \n",
       "1               20  \n",
       "2               20  \n",
       "3               20  \n",
       "4               20  \n",
       "...            ...  \n",
       "2195             5  \n",
       "2196             5  \n",
       "2197             5  \n",
       "2198             5  \n",
       "2199             5  \n",
       "\n",
       "[2200 rows x 8 columns]"
      ]
     },
     "execution_count": 123,
     "metadata": {},
     "output_type": "execute_result"
    }
   ],
   "source": [
    "cp.drop('label',axis=1)"
   ]
  },
  {
   "cell_type": "code",
   "execution_count": 124,
   "metadata": {},
   "outputs": [
    {
     "data": {
      "text/html": [
       "<div>\n",
       "<style scoped>\n",
       "    .dataframe tbody tr th:only-of-type {\n",
       "        vertical-align: middle;\n",
       "    }\n",
       "\n",
       "    .dataframe tbody tr th {\n",
       "        vertical-align: top;\n",
       "    }\n",
       "\n",
       "    .dataframe thead th {\n",
       "        text-align: right;\n",
       "    }\n",
       "</style>\n",
       "<table border=\"1\" class=\"dataframe\">\n",
       "  <thead>\n",
       "    <tr style=\"text-align: right;\">\n",
       "      <th></th>\n",
       "      <th>N</th>\n",
       "      <th>P</th>\n",
       "      <th>K</th>\n",
       "      <th>temperature</th>\n",
       "      <th>humidity</th>\n",
       "      <th>ph</th>\n",
       "      <th>rainfall</th>\n",
       "      <th>crop_encoder</th>\n",
       "    </tr>\n",
       "  </thead>\n",
       "  <tbody>\n",
       "    <tr>\n",
       "      <th>0</th>\n",
       "      <td>90.0</td>\n",
       "      <td>42.0</td>\n",
       "      <td>43.0</td>\n",
       "      <td>20.879744</td>\n",
       "      <td>82.002744</td>\n",
       "      <td>6.502985</td>\n",
       "      <td>202.935536</td>\n",
       "      <td>20</td>\n",
       "    </tr>\n",
       "    <tr>\n",
       "      <th>1</th>\n",
       "      <td>85.0</td>\n",
       "      <td>58.0</td>\n",
       "      <td>41.0</td>\n",
       "      <td>21.770462</td>\n",
       "      <td>80.319644</td>\n",
       "      <td>7.038096</td>\n",
       "      <td>226.655537</td>\n",
       "      <td>20</td>\n",
       "    </tr>\n",
       "    <tr>\n",
       "      <th>2</th>\n",
       "      <td>60.0</td>\n",
       "      <td>55.0</td>\n",
       "      <td>0.0</td>\n",
       "      <td>23.004459</td>\n",
       "      <td>82.320763</td>\n",
       "      <td>7.840207</td>\n",
       "      <td>263.964248</td>\n",
       "      <td>20</td>\n",
       "    </tr>\n",
       "    <tr>\n",
       "      <th>3</th>\n",
       "      <td>74.0</td>\n",
       "      <td>35.0</td>\n",
       "      <td>40.0</td>\n",
       "      <td>26.491096</td>\n",
       "      <td>80.158363</td>\n",
       "      <td>6.980401</td>\n",
       "      <td>0.000000</td>\n",
       "      <td>20</td>\n",
       "    </tr>\n",
       "    <tr>\n",
       "      <th>4</th>\n",
       "      <td>78.0</td>\n",
       "      <td>42.0</td>\n",
       "      <td>42.0</td>\n",
       "      <td>20.130175</td>\n",
       "      <td>81.604873</td>\n",
       "      <td>7.628473</td>\n",
       "      <td>262.717340</td>\n",
       "      <td>20</td>\n",
       "    </tr>\n",
       "    <tr>\n",
       "      <th>...</th>\n",
       "      <td>...</td>\n",
       "      <td>...</td>\n",
       "      <td>...</td>\n",
       "      <td>...</td>\n",
       "      <td>...</td>\n",
       "      <td>...</td>\n",
       "      <td>...</td>\n",
       "      <td>...</td>\n",
       "    </tr>\n",
       "    <tr>\n",
       "      <th>2195</th>\n",
       "      <td>107.0</td>\n",
       "      <td>34.0</td>\n",
       "      <td>32.0</td>\n",
       "      <td>26.774637</td>\n",
       "      <td>66.413269</td>\n",
       "      <td>6.780064</td>\n",
       "      <td>177.774507</td>\n",
       "      <td>5</td>\n",
       "    </tr>\n",
       "    <tr>\n",
       "      <th>2196</th>\n",
       "      <td>99.0</td>\n",
       "      <td>15.0</td>\n",
       "      <td>27.0</td>\n",
       "      <td>27.417112</td>\n",
       "      <td>56.636362</td>\n",
       "      <td>6.086922</td>\n",
       "      <td>127.924610</td>\n",
       "      <td>5</td>\n",
       "    </tr>\n",
       "    <tr>\n",
       "      <th>2197</th>\n",
       "      <td>118.0</td>\n",
       "      <td>33.0</td>\n",
       "      <td>30.0</td>\n",
       "      <td>24.131797</td>\n",
       "      <td>67.225123</td>\n",
       "      <td>6.362608</td>\n",
       "      <td>173.322839</td>\n",
       "      <td>5</td>\n",
       "    </tr>\n",
       "    <tr>\n",
       "      <th>2198</th>\n",
       "      <td>117.0</td>\n",
       "      <td>32.0</td>\n",
       "      <td>34.0</td>\n",
       "      <td>26.272418</td>\n",
       "      <td>52.127394</td>\n",
       "      <td>6.758793</td>\n",
       "      <td>127.175293</td>\n",
       "      <td>5</td>\n",
       "    </tr>\n",
       "    <tr>\n",
       "      <th>2199</th>\n",
       "      <td>104.0</td>\n",
       "      <td>52.0</td>\n",
       "      <td>30.0</td>\n",
       "      <td>23.603016</td>\n",
       "      <td>60.396475</td>\n",
       "      <td>6.779833</td>\n",
       "      <td>140.937041</td>\n",
       "      <td>5</td>\n",
       "    </tr>\n",
       "  </tbody>\n",
       "</table>\n",
       "<p>2200 rows × 8 columns</p>\n",
       "</div>"
      ],
      "text/plain": [
       "          N     P     K  temperature   humidity        ph    rainfall  \\\n",
       "0      90.0  42.0  43.0    20.879744  82.002744  6.502985  202.935536   \n",
       "1      85.0  58.0  41.0    21.770462  80.319644  7.038096  226.655537   \n",
       "2      60.0  55.0   0.0    23.004459  82.320763  7.840207  263.964248   \n",
       "3      74.0  35.0  40.0    26.491096  80.158363  6.980401    0.000000   \n",
       "4      78.0  42.0  42.0    20.130175  81.604873  7.628473  262.717340   \n",
       "...     ...   ...   ...          ...        ...       ...         ...   \n",
       "2195  107.0  34.0  32.0    26.774637  66.413269  6.780064  177.774507   \n",
       "2196   99.0  15.0  27.0    27.417112  56.636362  6.086922  127.924610   \n",
       "2197  118.0  33.0  30.0    24.131797  67.225123  6.362608  173.322839   \n",
       "2198  117.0  32.0  34.0    26.272418  52.127394  6.758793  127.175293   \n",
       "2199  104.0  52.0  30.0    23.603016  60.396475  6.779833  140.937041   \n",
       "\n",
       "      crop_encoder  \n",
       "0               20  \n",
       "1               20  \n",
       "2               20  \n",
       "3               20  \n",
       "4               20  \n",
       "...            ...  \n",
       "2195             5  \n",
       "2196             5  \n",
       "2197             5  \n",
       "2198             5  \n",
       "2199             5  \n",
       "\n",
       "[2200 rows x 8 columns]"
      ]
     },
     "execution_count": 124,
     "metadata": {},
     "output_type": "execute_result"
    }
   ],
   "source": [
    "cp.drop('label',axis=1)"
   ]
  },
  {
   "cell_type": "code",
   "execution_count": 125,
   "metadata": {},
   "outputs": [
    {
     "data": {
      "text/html": [
       "<div>\n",
       "<style scoped>\n",
       "    .dataframe tbody tr th:only-of-type {\n",
       "        vertical-align: middle;\n",
       "    }\n",
       "\n",
       "    .dataframe tbody tr th {\n",
       "        vertical-align: top;\n",
       "    }\n",
       "\n",
       "    .dataframe thead th {\n",
       "        text-align: right;\n",
       "    }\n",
       "</style>\n",
       "<table border=\"1\" class=\"dataframe\">\n",
       "  <thead>\n",
       "    <tr style=\"text-align: right;\">\n",
       "      <th></th>\n",
       "      <th>N</th>\n",
       "      <th>P</th>\n",
       "      <th>K</th>\n",
       "      <th>temperature</th>\n",
       "      <th>humidity</th>\n",
       "      <th>ph</th>\n",
       "      <th>rainfall</th>\n",
       "      <th>label</th>\n",
       "      <th>crop_encoder</th>\n",
       "    </tr>\n",
       "  </thead>\n",
       "  <tbody>\n",
       "    <tr>\n",
       "      <th>0</th>\n",
       "      <td>90.0</td>\n",
       "      <td>42.0</td>\n",
       "      <td>43.0</td>\n",
       "      <td>20.879744</td>\n",
       "      <td>82.002744</td>\n",
       "      <td>6.502985</td>\n",
       "      <td>202.935536</td>\n",
       "      <td>rice</td>\n",
       "      <td>20</td>\n",
       "    </tr>\n",
       "    <tr>\n",
       "      <th>1</th>\n",
       "      <td>85.0</td>\n",
       "      <td>58.0</td>\n",
       "      <td>41.0</td>\n",
       "      <td>21.770462</td>\n",
       "      <td>80.319644</td>\n",
       "      <td>7.038096</td>\n",
       "      <td>226.655537</td>\n",
       "      <td>rice</td>\n",
       "      <td>20</td>\n",
       "    </tr>\n",
       "    <tr>\n",
       "      <th>2</th>\n",
       "      <td>60.0</td>\n",
       "      <td>55.0</td>\n",
       "      <td>0.0</td>\n",
       "      <td>23.004459</td>\n",
       "      <td>82.320763</td>\n",
       "      <td>7.840207</td>\n",
       "      <td>263.964248</td>\n",
       "      <td>rice</td>\n",
       "      <td>20</td>\n",
       "    </tr>\n",
       "    <tr>\n",
       "      <th>3</th>\n",
       "      <td>74.0</td>\n",
       "      <td>35.0</td>\n",
       "      <td>40.0</td>\n",
       "      <td>26.491096</td>\n",
       "      <td>80.158363</td>\n",
       "      <td>6.980401</td>\n",
       "      <td>0.000000</td>\n",
       "      <td>rice</td>\n",
       "      <td>20</td>\n",
       "    </tr>\n",
       "    <tr>\n",
       "      <th>4</th>\n",
       "      <td>78.0</td>\n",
       "      <td>42.0</td>\n",
       "      <td>42.0</td>\n",
       "      <td>20.130175</td>\n",
       "      <td>81.604873</td>\n",
       "      <td>7.628473</td>\n",
       "      <td>262.717340</td>\n",
       "      <td>rice</td>\n",
       "      <td>20</td>\n",
       "    </tr>\n",
       "    <tr>\n",
       "      <th>...</th>\n",
       "      <td>...</td>\n",
       "      <td>...</td>\n",
       "      <td>...</td>\n",
       "      <td>...</td>\n",
       "      <td>...</td>\n",
       "      <td>...</td>\n",
       "      <td>...</td>\n",
       "      <td>...</td>\n",
       "      <td>...</td>\n",
       "    </tr>\n",
       "    <tr>\n",
       "      <th>2195</th>\n",
       "      <td>107.0</td>\n",
       "      <td>34.0</td>\n",
       "      <td>32.0</td>\n",
       "      <td>26.774637</td>\n",
       "      <td>66.413269</td>\n",
       "      <td>6.780064</td>\n",
       "      <td>177.774507</td>\n",
       "      <td>coffee</td>\n",
       "      <td>5</td>\n",
       "    </tr>\n",
       "    <tr>\n",
       "      <th>2196</th>\n",
       "      <td>99.0</td>\n",
       "      <td>15.0</td>\n",
       "      <td>27.0</td>\n",
       "      <td>27.417112</td>\n",
       "      <td>56.636362</td>\n",
       "      <td>6.086922</td>\n",
       "      <td>127.924610</td>\n",
       "      <td>coffee</td>\n",
       "      <td>5</td>\n",
       "    </tr>\n",
       "    <tr>\n",
       "      <th>2197</th>\n",
       "      <td>118.0</td>\n",
       "      <td>33.0</td>\n",
       "      <td>30.0</td>\n",
       "      <td>24.131797</td>\n",
       "      <td>67.225123</td>\n",
       "      <td>6.362608</td>\n",
       "      <td>173.322839</td>\n",
       "      <td>coffee</td>\n",
       "      <td>5</td>\n",
       "    </tr>\n",
       "    <tr>\n",
       "      <th>2198</th>\n",
       "      <td>117.0</td>\n",
       "      <td>32.0</td>\n",
       "      <td>34.0</td>\n",
       "      <td>26.272418</td>\n",
       "      <td>52.127394</td>\n",
       "      <td>6.758793</td>\n",
       "      <td>127.175293</td>\n",
       "      <td>coffee</td>\n",
       "      <td>5</td>\n",
       "    </tr>\n",
       "    <tr>\n",
       "      <th>2199</th>\n",
       "      <td>104.0</td>\n",
       "      <td>52.0</td>\n",
       "      <td>30.0</td>\n",
       "      <td>23.603016</td>\n",
       "      <td>60.396475</td>\n",
       "      <td>6.779833</td>\n",
       "      <td>140.937041</td>\n",
       "      <td>coffee</td>\n",
       "      <td>5</td>\n",
       "    </tr>\n",
       "  </tbody>\n",
       "</table>\n",
       "<p>2200 rows × 9 columns</p>\n",
       "</div>"
      ],
      "text/plain": [
       "          N     P     K  temperature   humidity        ph    rainfall   label  \\\n",
       "0      90.0  42.0  43.0    20.879744  82.002744  6.502985  202.935536    rice   \n",
       "1      85.0  58.0  41.0    21.770462  80.319644  7.038096  226.655537    rice   \n",
       "2      60.0  55.0   0.0    23.004459  82.320763  7.840207  263.964248    rice   \n",
       "3      74.0  35.0  40.0    26.491096  80.158363  6.980401    0.000000    rice   \n",
       "4      78.0  42.0  42.0    20.130175  81.604873  7.628473  262.717340    rice   \n",
       "...     ...   ...   ...          ...        ...       ...         ...     ...   \n",
       "2195  107.0  34.0  32.0    26.774637  66.413269  6.780064  177.774507  coffee   \n",
       "2196   99.0  15.0  27.0    27.417112  56.636362  6.086922  127.924610  coffee   \n",
       "2197  118.0  33.0  30.0    24.131797  67.225123  6.362608  173.322839  coffee   \n",
       "2198  117.0  32.0  34.0    26.272418  52.127394  6.758793  127.175293  coffee   \n",
       "2199  104.0  52.0  30.0    23.603016  60.396475  6.779833  140.937041  coffee   \n",
       "\n",
       "      crop_encoder  \n",
       "0               20  \n",
       "1               20  \n",
       "2               20  \n",
       "3               20  \n",
       "4               20  \n",
       "...            ...  \n",
       "2195             5  \n",
       "2196             5  \n",
       "2197             5  \n",
       "2198             5  \n",
       "2199             5  \n",
       "\n",
       "[2200 rows x 9 columns]"
      ]
     },
     "execution_count": 125,
     "metadata": {},
     "output_type": "execute_result"
    }
   ],
   "source": [
    "cp"
   ]
  },
  {
   "cell_type": "code",
   "execution_count": 126,
   "metadata": {},
   "outputs": [],
   "source": [
    "from sklearn.model_selection import train_test_split"
   ]
  },
  {
   "cell_type": "code",
   "execution_count": 127,
   "metadata": {},
   "outputs": [],
   "source": [
    "x=cp.drop(['label','crop_encoder'],axis=1)"
   ]
  },
  {
   "cell_type": "code",
   "execution_count": 128,
   "metadata": {},
   "outputs": [],
   "source": [
    "y=cp['label']"
   ]
  },
  {
   "cell_type": "code",
   "execution_count": 129,
   "metadata": {},
   "outputs": [],
   "source": [
    "x_train,x_test,y_train,y_test=train_test_split(x,y,test_size=0.25,random_state=2529)"
   ]
  },
  {
   "cell_type": "code",
   "execution_count": 130,
   "metadata": {},
   "outputs": [],
   "source": [
    "from sklearn.linear_model import LogisticRegression"
   ]
  },
  {
   "cell_type": "code",
   "execution_count": 131,
   "metadata": {},
   "outputs": [],
   "source": [
    "model=LogisticRegression()"
   ]
  },
  {
   "cell_type": "code",
   "execution_count": 132,
   "metadata": {},
   "outputs": [
    {
     "name": "stderr",
     "output_type": "stream",
     "text": [
      "C:\\Users\\Admin\\AppData\\Roaming\\Python\\Python312\\site-packages\\sklearn\\linear_model\\_logistic.py:460: ConvergenceWarning: lbfgs failed to converge (status=1):\n",
      "STOP: TOTAL NO. of ITERATIONS REACHED LIMIT.\n",
      "\n",
      "Increase the number of iterations (max_iter) or scale the data as shown in:\n",
      "    https://scikit-learn.org/stable/modules/preprocessing.html\n",
      "Please also refer to the documentation for alternative solver options:\n",
      "    https://scikit-learn.org/stable/modules/linear_model.html#logistic-regression\n",
      "  n_iter_i = _check_optimize_result(\n"
     ]
    },
    {
     "data": {
      "text/html": [
       "<style>#sk-container-id-3 {color: black;}#sk-container-id-3 pre{padding: 0;}#sk-container-id-3 div.sk-toggleable {background-color: white;}#sk-container-id-3 label.sk-toggleable__label {cursor: pointer;display: block;width: 100%;margin-bottom: 0;padding: 0.3em;box-sizing: border-box;text-align: center;}#sk-container-id-3 label.sk-toggleable__label-arrow:before {content: \"▸\";float: left;margin-right: 0.25em;color: #696969;}#sk-container-id-3 label.sk-toggleable__label-arrow:hover:before {color: black;}#sk-container-id-3 div.sk-estimator:hover label.sk-toggleable__label-arrow:before {color: black;}#sk-container-id-3 div.sk-toggleable__content {max-height: 0;max-width: 0;overflow: hidden;text-align: left;background-color: #f0f8ff;}#sk-container-id-3 div.sk-toggleable__content pre {margin: 0.2em;color: black;border-radius: 0.25em;background-color: #f0f8ff;}#sk-container-id-3 input.sk-toggleable__control:checked~div.sk-toggleable__content {max-height: 200px;max-width: 100%;overflow: auto;}#sk-container-id-3 input.sk-toggleable__control:checked~label.sk-toggleable__label-arrow:before {content: \"▾\";}#sk-container-id-3 div.sk-estimator input.sk-toggleable__control:checked~label.sk-toggleable__label {background-color: #d4ebff;}#sk-container-id-3 div.sk-label input.sk-toggleable__control:checked~label.sk-toggleable__label {background-color: #d4ebff;}#sk-container-id-3 input.sk-hidden--visually {border: 0;clip: rect(1px 1px 1px 1px);clip: rect(1px, 1px, 1px, 1px);height: 1px;margin: -1px;overflow: hidden;padding: 0;position: absolute;width: 1px;}#sk-container-id-3 div.sk-estimator {font-family: monospace;background-color: #f0f8ff;border: 1px dotted black;border-radius: 0.25em;box-sizing: border-box;margin-bottom: 0.5em;}#sk-container-id-3 div.sk-estimator:hover {background-color: #d4ebff;}#sk-container-id-3 div.sk-parallel-item::after {content: \"\";width: 100%;border-bottom: 1px solid gray;flex-grow: 1;}#sk-container-id-3 div.sk-label:hover label.sk-toggleable__label {background-color: #d4ebff;}#sk-container-id-3 div.sk-serial::before {content: \"\";position: absolute;border-left: 1px solid gray;box-sizing: border-box;top: 0;bottom: 0;left: 50%;z-index: 0;}#sk-container-id-3 div.sk-serial {display: flex;flex-direction: column;align-items: center;background-color: white;padding-right: 0.2em;padding-left: 0.2em;position: relative;}#sk-container-id-3 div.sk-item {position: relative;z-index: 1;}#sk-container-id-3 div.sk-parallel {display: flex;align-items: stretch;justify-content: center;background-color: white;position: relative;}#sk-container-id-3 div.sk-item::before, #sk-container-id-3 div.sk-parallel-item::before {content: \"\";position: absolute;border-left: 1px solid gray;box-sizing: border-box;top: 0;bottom: 0;left: 50%;z-index: -1;}#sk-container-id-3 div.sk-parallel-item {display: flex;flex-direction: column;z-index: 1;position: relative;background-color: white;}#sk-container-id-3 div.sk-parallel-item:first-child::after {align-self: flex-end;width: 50%;}#sk-container-id-3 div.sk-parallel-item:last-child::after {align-self: flex-start;width: 50%;}#sk-container-id-3 div.sk-parallel-item:only-child::after {width: 0;}#sk-container-id-3 div.sk-dashed-wrapped {border: 1px dashed gray;margin: 0 0.4em 0.5em 0.4em;box-sizing: border-box;padding-bottom: 0.4em;background-color: white;}#sk-container-id-3 div.sk-label label {font-family: monospace;font-weight: bold;display: inline-block;line-height: 1.2em;}#sk-container-id-3 div.sk-label-container {text-align: center;}#sk-container-id-3 div.sk-container {/* jupyter's `normalize.less` sets `[hidden] { display: none; }` but bootstrap.min.css set `[hidden] { display: none !important; }` so we also need the `!important` here to be able to override the default hidden behavior on the sphinx rendered scikit-learn.org. See: https://github.com/scikit-learn/scikit-learn/issues/21755 */display: inline-block !important;position: relative;}#sk-container-id-3 div.sk-text-repr-fallback {display: none;}</style><div id=\"sk-container-id-3\" class=\"sk-top-container\"><div class=\"sk-text-repr-fallback\"><pre>LogisticRegression()</pre><b>In a Jupyter environment, please rerun this cell to show the HTML representation or trust the notebook. <br />On GitHub, the HTML representation is unable to render, please try loading this page with nbviewer.org.</b></div><div class=\"sk-container\" hidden><div class=\"sk-item\"><div class=\"sk-estimator sk-toggleable\"><input class=\"sk-toggleable__control sk-hidden--visually\" id=\"sk-estimator-id-3\" type=\"checkbox\" checked><label for=\"sk-estimator-id-3\" class=\"sk-toggleable__label sk-toggleable__label-arrow\">LogisticRegression</label><div class=\"sk-toggleable__content\"><pre>LogisticRegression()</pre></div></div></div></div></div>"
      ],
      "text/plain": [
       "LogisticRegression()"
      ]
     },
     "execution_count": 132,
     "metadata": {},
     "output_type": "execute_result"
    }
   ],
   "source": [
    "model.fit(x_train,y_train)"
   ]
  },
  {
   "cell_type": "code",
   "execution_count": null,
   "metadata": {},
   "outputs": [],
   "source": []
  },
  {
   "cell_type": "code",
   "execution_count": 133,
   "metadata": {},
   "outputs": [],
   "source": [
    "x_Test_prediction=model.predict(x_test)"
   ]
  },
  {
   "cell_type": "code",
   "execution_count": 134,
   "metadata": {},
   "outputs": [
    {
     "data": {
      "text/plain": [
       "array(['mothbeans', 'coffee', 'mothbeans', 'cotton', 'coconut',\n",
       "       'blackgram', 'papaya', 'lentil', 'cotton', 'jute', 'banana',\n",
       "       'muskmelon', 'pigeonpeas', 'papaya', 'chickpea', 'grapes',\n",
       "       'muskmelon', 'apple', 'watermelon', 'watermelon', 'muskmelon',\n",
       "       'rice', 'coconut', 'kidneybeans', 'cotton', 'chickpea', 'chickpea',\n",
       "       'watermelon', 'grapes', 'apple', 'mungbean', 'orange',\n",
       "       'watermelon', 'mungbean', 'grapes', 'blackgram', 'maize',\n",
       "       'mothbeans', 'banana', 'coconut', 'watermelon', 'pigeonpeas',\n",
       "       'papaya', 'pigeonpeas', 'maize', 'mungbean', 'watermelon',\n",
       "       'orange', 'mango', 'apple', 'watermelon', 'watermelon', 'maize',\n",
       "       'coconut', 'banana', 'mungbean', 'orange', 'pigeonpeas', 'jute',\n",
       "       'orange', 'pigeonpeas', 'mungbean', 'coconut', 'grapes', 'banana',\n",
       "       'muskmelon', 'muskmelon', 'muskmelon', 'papaya', 'kidneybeans',\n",
       "       'mango', 'watermelon', 'maize', 'kidneybeans', 'jute', 'apple',\n",
       "       'lentil', 'cotton', 'mungbean', 'muskmelon', 'coffee', 'chickpea',\n",
       "       'banana', 'grapes', 'papaya', 'coconut', 'cotton', 'grapes',\n",
       "       'rice', 'lentil', 'pomegranate', 'coffee', 'mungbean', 'papaya',\n",
       "       'orange', 'coffee', 'chickpea', 'rice', 'chickpea', 'kidneybeans',\n",
       "       'blackgram', 'kidneybeans', 'maize', 'coffee', 'apple', 'lentil',\n",
       "       'apple', 'kidneybeans', 'chickpea', 'pomegranate', 'muskmelon',\n",
       "       'mothbeans', 'pomegranate', 'mothbeans', 'mothbeans', 'pigeonpeas',\n",
       "       'muskmelon', 'jute', 'pomegranate', 'pigeonpeas', 'chickpea',\n",
       "       'rice', 'pigeonpeas', 'pomegranate', 'grapes', 'chickpea', 'maize',\n",
       "       'grapes', 'grapes', 'kidneybeans', 'cotton', 'mothbeans',\n",
       "       'watermelon', 'papaya', 'coffee', 'jute', 'jute', 'cotton',\n",
       "       'banana', 'cotton', 'pigeonpeas', 'papaya', 'muskmelon', 'coconut',\n",
       "       'maize', 'watermelon', 'apple', 'pigeonpeas', 'kidneybeans',\n",
       "       'watermelon', 'coffee', 'apple', 'chickpea', 'coffee',\n",
       "       'pomegranate', 'jute', 'coffee', 'mungbean', 'mango', 'maize',\n",
       "       'mango', 'lentil', 'jute', 'coconut', 'rice', 'orange', 'mungbean',\n",
       "       'grapes', 'chickpea', 'pigeonpeas', 'kidneybeans', 'papaya',\n",
       "       'orange', 'mothbeans', 'banana', 'banana', 'pomegranate', 'jute',\n",
       "       'coffee', 'cotton', 'muskmelon', 'muskmelon', 'orange', 'apple',\n",
       "       'lentil', 'orange', 'coffee', 'banana', 'muskmelon', 'watermelon',\n",
       "       'banana', 'lentil', 'muskmelon', 'coffee', 'blackgram', 'banana',\n",
       "       'grapes', 'watermelon', 'kidneybeans', 'pomegranate', 'mango',\n",
       "       'blackgram', 'coconut', 'pomegranate', 'rice', 'pomegranate',\n",
       "       'lentil', 'mungbean', 'coffee', 'lentil', 'watermelon',\n",
       "       'blackgram', 'jute', 'kidneybeans', 'mothbeans', 'pomegranate',\n",
       "       'orange', 'pigeonpeas', 'mothbeans', 'apple', 'maize', 'mothbeans',\n",
       "       'mungbean', 'mothbeans', 'blackgram', 'lentil', 'mungbean',\n",
       "       'grapes', 'chickpea', 'maize', 'banana', 'orange', 'pigeonpeas',\n",
       "       'apple', 'blackgram', 'orange', 'coffee', 'orange', 'coffee',\n",
       "       'cotton', 'pigeonpeas', 'rice', 'papaya', 'mungbean', 'maize',\n",
       "       'mango', 'muskmelon', 'kidneybeans', 'mothbeans', 'pigeonpeas',\n",
       "       'coconut', 'pomegranate', 'blackgram', 'jute', 'blackgram',\n",
       "       'kidneybeans', 'maize', 'coffee', 'rice', 'coffee', 'pigeonpeas',\n",
       "       'banana', 'pomegranate', 'muskmelon', 'papaya', 'muskmelon',\n",
       "       'papaya', 'mothbeans', 'pomegranate', 'mungbean', 'mango',\n",
       "       'grapes', 'banana', 'banana', 'coconut', 'coffee', 'muskmelon',\n",
       "       'maize', 'mothbeans', 'lentil', 'chickpea', 'jute', 'pomegranate',\n",
       "       'maize', 'jute', 'jute', 'mungbean', 'rice', 'pigeonpeas',\n",
       "       'coconut', 'banana', 'rice', 'papaya', 'apple', 'muskmelon',\n",
       "       'lentil', 'orange', 'watermelon', 'papaya', 'orange', 'coconut',\n",
       "       'coffee', 'banana', 'mothbeans', 'orange', 'mango', 'mungbean',\n",
       "       'mango', 'cotton', 'kidneybeans', 'mango', 'mothbeans',\n",
       "       'pigeonpeas', 'cotton', 'banana', 'cotton', 'grapes', 'coconut',\n",
       "       'lentil', 'cotton', 'apple', 'mothbeans', 'muskmelon', 'orange',\n",
       "       'mothbeans', 'jute', 'blackgram', 'lentil', 'coffee', 'muskmelon',\n",
       "       'coconut', 'banana', 'coffee', 'rice', 'cotton', 'mothbeans',\n",
       "       'orange', 'pomegranate', 'grapes', 'lentil', 'muskmelon', 'papaya',\n",
       "       'mungbean', 'jute', 'papaya', 'coffee', 'maize', 'cotton', 'rice',\n",
       "       'grapes', 'apple', 'pigeonpeas', 'papaya', 'banana', 'mango',\n",
       "       'banana', 'pigeonpeas', 'cotton', 'coffee', 'mothbeans',\n",
       "       'mothbeans', 'rice', 'mungbean', 'coffee', 'cotton', 'papaya',\n",
       "       'grapes', 'lentil', 'muskmelon', 'kidneybeans', 'chickpea',\n",
       "       'pigeonpeas', 'rice', 'watermelon', 'grapes', 'coffee',\n",
       "       'pomegranate', 'coconut', 'coffee', 'maize', 'mango', 'muskmelon',\n",
       "       'papaya', 'orange', 'pomegranate', 'mango', 'cotton', 'chickpea',\n",
       "       'maize', 'blackgram', 'rice', 'lentil', 'banana', 'apple',\n",
       "       'pigeonpeas', 'blackgram', 'chickpea', 'pigeonpeas', 'pigeonpeas',\n",
       "       'lentil', 'kidneybeans', 'cotton', 'cotton', 'orange',\n",
       "       'pomegranate', 'blackgram', 'grapes', 'grapes', 'mothbeans',\n",
       "       'mango', 'apple', 'cotton', 'coconut', 'lentil', 'grapes',\n",
       "       'mothbeans', 'papaya', 'banana', 'muskmelon', 'lentil', 'apple',\n",
       "       'apple', 'watermelon', 'jute', 'jute', 'coffee', 'pomegranate',\n",
       "       'coconut', 'grapes', 'coconut', 'grapes', 'blackgram', 'jute',\n",
       "       'jute', 'muskmelon', 'coffee', 'banana', 'kidneybeans', 'banana',\n",
       "       'jute', 'papaya', 'grapes', 'muskmelon', 'watermelon', 'grapes',\n",
       "       'orange', 'jute', 'kidneybeans', 'mungbean', 'maize', 'rice',\n",
       "       'cotton', 'mungbean', 'mango', 'watermelon', 'mango', 'mungbean',\n",
       "       'kidneybeans', 'pigeonpeas', 'pigeonpeas', 'pigeonpeas', 'coffee',\n",
       "       'chickpea', 'rice', 'grapes', 'pigeonpeas', 'mothbeans',\n",
       "       'blackgram', 'blackgram', 'mango', 'mungbean', 'orange', 'maize',\n",
       "       'mungbean', 'lentil', 'coconut', 'watermelon', 'papaya', 'cotton',\n",
       "       'apple', 'apple', 'mango', 'banana', 'mothbeans', 'muskmelon',\n",
       "       'banana', 'kidneybeans', 'jute', 'pomegranate', 'orange',\n",
       "       'watermelon', 'banana', 'pomegranate', 'grapes', 'orange',\n",
       "       'coffee', 'kidneybeans', 'coconut', 'cotton', 'jute', 'mungbean',\n",
       "       'banana', 'coffee', 'kidneybeans', 'lentil', 'mungbean', 'rice',\n",
       "       'lentil', 'mothbeans', 'orange', 'rice', 'muskmelon', 'papaya',\n",
       "       'mango', 'apple', 'orange', 'watermelon', 'banana', 'jute',\n",
       "       'watermelon', 'mothbeans', 'pomegranate', 'rice', 'coffee',\n",
       "       'grapes', 'banana', 'kidneybeans', 'grapes', 'maize', 'maize',\n",
       "       'kidneybeans', 'grapes', 'cotton', 'kidneybeans', 'watermelon',\n",
       "       'coffee', 'rice', 'apple', 'papaya', 'orange', 'banana',\n",
       "       'chickpea', 'coconut', 'pigeonpeas', 'mothbeans', 'papaya',\n",
       "       'maize', 'pomegranate', 'lentil', 'watermelon'], dtype=object)"
      ]
     },
     "execution_count": 134,
     "metadata": {},
     "output_type": "execute_result"
    }
   ],
   "source": [
    "x_Test_prediction"
   ]
  },
  {
   "cell_type": "code",
   "execution_count": 135,
   "metadata": {},
   "outputs": [],
   "source": [
    "from sklearn.metrics import accuracy_score"
   ]
  },
  {
   "cell_type": "code",
   "execution_count": 136,
   "metadata": {},
   "outputs": [],
   "source": [
    "acc=accuracy_score(x_Test_prediction,y_test)"
   ]
  },
  {
   "cell_type": "code",
   "execution_count": 137,
   "metadata": {},
   "outputs": [
    {
     "data": {
      "text/plain": [
       "0.9272727272727272"
      ]
     },
     "execution_count": 137,
     "metadata": {},
     "output_type": "execute_result"
    }
   ],
   "source": [
    "acc"
   ]
  },
  {
   "cell_type": "code",
   "execution_count": 138,
   "metadata": {},
   "outputs": [],
   "source": [
    "import pickle"
   ]
  },
  {
   "cell_type": "code",
   "execution_count": 139,
   "metadata": {},
   "outputs": [],
   "source": [
    "with open('model.pkl','wb') as model_file:\n",
    "    pickle.dump(model,model_file)"
   ]
  },
  {
   "cell_type": "code",
   "execution_count": 140,
   "metadata": {},
   "outputs": [
    {
     "data": {
      "text/html": [
       "<div>\n",
       "<style scoped>\n",
       "    .dataframe tbody tr th:only-of-type {\n",
       "        vertical-align: middle;\n",
       "    }\n",
       "\n",
       "    .dataframe tbody tr th {\n",
       "        vertical-align: top;\n",
       "    }\n",
       "\n",
       "    .dataframe thead th {\n",
       "        text-align: right;\n",
       "    }\n",
       "</style>\n",
       "<table border=\"1\" class=\"dataframe\">\n",
       "  <thead>\n",
       "    <tr style=\"text-align: right;\">\n",
       "      <th></th>\n",
       "      <th>actual</th>\n",
       "      <th>prediction</th>\n",
       "      <th>diffrence</th>\n",
       "    </tr>\n",
       "  </thead>\n",
       "  <tbody>\n",
       "    <tr>\n",
       "      <th>2121</th>\n",
       "      <td>5</td>\n",
       "      <td>5</td>\n",
       "      <td>0</td>\n",
       "    </tr>\n",
       "    <tr>\n",
       "      <th>960</th>\n",
       "      <td>19</td>\n",
       "      <td>19</td>\n",
       "      <td>0</td>\n",
       "    </tr>\n",
       "    <tr>\n",
       "      <th>952</th>\n",
       "      <td>19</td>\n",
       "      <td>19</td>\n",
       "      <td>0</td>\n",
       "    </tr>\n",
       "    <tr>\n",
       "      <th>1958</th>\n",
       "      <td>6</td>\n",
       "      <td>6</td>\n",
       "      <td>0</td>\n",
       "    </tr>\n",
       "    <tr>\n",
       "      <th>681</th>\n",
       "      <td>14</td>\n",
       "      <td>14</td>\n",
       "      <td>0</td>\n",
       "    </tr>\n",
       "    <tr>\n",
       "      <th>...</th>\n",
       "      <td>...</td>\n",
       "      <td>...</td>\n",
       "      <td>...</td>\n",
       "    </tr>\n",
       "    <tr>\n",
       "      <th>794</th>\n",
       "      <td>2</td>\n",
       "      <td>13</td>\n",
       "      <td>-11</td>\n",
       "    </tr>\n",
       "    <tr>\n",
       "      <th>287</th>\n",
       "      <td>3</td>\n",
       "      <td>3</td>\n",
       "      <td>0</td>\n",
       "    </tr>\n",
       "    <tr>\n",
       "      <th>1054</th>\n",
       "      <td>1</td>\n",
       "      <td>11</td>\n",
       "      <td>-10</td>\n",
       "    </tr>\n",
       "    <tr>\n",
       "      <th>2042</th>\n",
       "      <td>8</td>\n",
       "      <td>20</td>\n",
       "      <td>-12</td>\n",
       "    </tr>\n",
       "    <tr>\n",
       "      <th>1719</th>\n",
       "      <td>17</td>\n",
       "      <td>17</td>\n",
       "      <td>0</td>\n",
       "    </tr>\n",
       "  </tbody>\n",
       "</table>\n",
       "<p>660 rows × 3 columns</p>\n",
       "</div>"
      ],
      "text/plain": [
       "      actual  prediction  diffrence\n",
       "2121       5           5          0\n",
       "960       19          19          0\n",
       "952       19          19          0\n",
       "1958       6           6          0\n",
       "681       14          14          0\n",
       "...      ...         ...        ...\n",
       "794        2          13        -11\n",
       "287        3           3          0\n",
       "1054       1          11        -10\n",
       "2042       8          20        -12\n",
       "1719      17          17          0\n",
       "\n",
       "[660 rows x 3 columns]"
      ]
     },
     "execution_count": 140,
     "metadata": {},
     "output_type": "execute_result"
    }
   ],
   "source": [
    "pre"
   ]
  },
  {
   "cell_type": "code",
   "execution_count": null,
   "metadata": {},
   "outputs": [],
   "source": []
  }
 ],
 "metadata": {
  "kernelspec": {
   "display_name": "Python 3",
   "language": "python",
   "name": "python3"
  },
  "language_info": {
   "codemirror_mode": {
    "name": "ipython",
    "version": 3
   },
   "file_extension": ".py",
   "mimetype": "text/x-python",
   "name": "python",
   "nbconvert_exporter": "python",
   "pygments_lexer": "ipython3",
   "version": "3.12.1"
  }
 },
 "nbformat": 4,
 "nbformat_minor": 2
}
